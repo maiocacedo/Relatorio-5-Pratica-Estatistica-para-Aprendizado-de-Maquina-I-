{
 "cells": [
  {
   "cell_type": "markdown",
   "metadata": {},
   "source": [
    "# Média, mediana e moda em NumPy\n",
    "\n",
    "#### Média\n",
    "> é o valor que representa o valor médio, isto é, a soma dos valores divido pela quantidade de valores. Representa a tendência central dos dados.\n",
    "\n",
    "#### Mediana\n",
    "> é o ponto médio do conjunto dos valores observados\n",
    "\n",
    "#### Moda\n",
    "> é o valor que apresenta maior frequência.\n"
   ]
  },
  {
   "cell_type": "markdown",
   "metadata": {},
   "source": [
    "### Média Vs. Mediana\n",
    "> Enquanto a mediana representa o centro do conjunto, a média representa a tendência central dos valores, isto é, representa a concentração de dados de uma distribuição."
   ]
  },
  {
   "cell_type": "markdown",
   "metadata": {},
   "source": [
    "> "
   ]
  },
  {
   "cell_type": "code",
   "execution_count": 1,
   "metadata": {},
   "outputs": [
    {
     "data": {
      "text/plain": [
       "26980.08923563363"
      ]
     },
     "execution_count": 1,
     "metadata": {},
     "output_type": "execute_result"
    }
   ],
   "source": [
    "import numpy as np\n",
    "\n",
    "rendimento = np.random.normal(27000, 15000, 10000) # 10000 números aleatorios centrados em 27000 com desvio padrão de 15000 \n",
    "np.mean(rendimento) # media"
   ]
  },
  {
   "cell_type": "code",
   "execution_count": 2,
   "metadata": {},
   "outputs": [
    {
     "data": {
      "image/png": "[encoded data removed]",
      "text/plain": [
       "<Figure size 640x480 with 1 Axes>"
      ]
     },
     "metadata": {},
     "output_type": "display_data"
    }
   ],
   "source": [
    "%matplotlib inline\n",
    "import matplotlib.pyplot as plt\n",
    "plt.hist(rendimento, 50) # Criando um histograma utilizando o metodo hist()\n",
    "plt.show()"
   ]
  },
  {
   "cell_type": "code",
   "execution_count": 3,
   "metadata": {},
   "outputs": [
    {
     "data": {
      "text/plain": [
       "26989.938811079915"
      ]
     },
     "execution_count": 3,
     "metadata": {},
     "output_type": "execute_result"
    }
   ],
   "source": [
    "np.median(rendimento) # Mediana de rendimento\n"
   ]
  },
  {
   "cell_type": "code",
   "execution_count": 4,
   "metadata": {},
   "outputs": [
    {
     "data": {
      "text/plain": [
       "26980.08923563363"
      ]
     },
     "execution_count": 4,
     "metadata": {},
     "output_type": "execute_result"
    }
   ],
   "source": [
    "np.mean(rendimento) # Média de rendimento"
   ]
  },
  {
   "cell_type": "code",
   "execution_count": 5,
   "metadata": {},
   "outputs": [],
   "source": [
    "rendimento = np.append(rendimento, [100000000]) # Adicionando o valor 100000000 em rendimento"
   ]
  },
  {
   "cell_type": "code",
   "execution_count": 6,
   "metadata": {},
   "outputs": [
    {
     "data": {
      "text/plain": [
       "26993.180810676815"
      ]
     },
     "execution_count": 6,
     "metadata": {},
     "output_type": "execute_result"
    }
   ],
   "source": [
    "np.median(rendimento) # Mediana nova de rendimento"
   ]
  },
  {
   "cell_type": "code",
   "execution_count": 7,
   "metadata": {},
   "outputs": [
    {
     "data": {
      "text/plain": [
       "36976.39159647398"
      ]
     },
     "execution_count": 7,
     "metadata": {},
     "output_type": "execute_result"
    }
   ],
   "source": [
    "np.mean(rendimento) # Média nova de rendimento"
   ]
  },
  {
   "cell_type": "markdown",
   "metadata": {},
   "source": [
    "## Moda"
   ]
  },
  {
   "cell_type": "code",
   "execution_count": 9,
   "metadata": {},
   "outputs": [],
   "source": [
    "idades = np.random.randint(18, high=65, size=452) # Array com 452 idades de 18 a 65"
   ]
  },
  {
   "cell_type": "code",
   "execution_count": 10,
   "metadata": {},
   "outputs": [
    {
     "data": {
      "text/plain": [
       "array([37, 58, 28, 64, 52, 32, 60, 25, 56, 19, 29, 62, 28, 49, 35, 18, 36,\n",
       "       18, 34, 52, 41, 33, 60, 39, 34, 63, 35, 28, 45, 21, 35, 48, 60, 38,\n",
       "       55, 58, 46, 27, 19, 36, 57, 48, 25, 42, 28, 38, 45, 34, 54, 45, 48,\n",
       "       39, 44, 42, 46, 24, 59, 35, 51, 57, 23, 32, 52, 46, 44, 39, 62, 23,\n",
       "       32, 39, 49, 53, 52, 51, 29, 42, 48, 43, 31, 54, 57, 31, 27, 23, 58,\n",
       "       49, 58, 34, 39, 33, 60, 19, 22, 59, 31, 52, 50, 46, 38, 32, 35, 46,\n",
       "       35, 45, 52, 28, 28, 44, 40, 62, 45, 38, 56, 57, 51, 34, 30, 55, 21,\n",
       "       63, 49, 39, 36, 45, 56, 57, 48, 63, 62, 42, 48, 49, 45, 39, 51, 47,\n",
       "       26, 49, 61, 46, 20, 33, 59, 45, 52, 27, 35, 36, 60, 59, 32, 57, 19,\n",
       "       27, 24, 54, 32, 44, 39, 28, 49, 48, 27, 36, 18, 47, 41, 43, 21, 51,\n",
       "       62, 40, 49, 57, 20, 24, 63, 58, 55, 35, 33, 37, 23, 43, 31, 21, 45,\n",
       "       49, 31, 38, 42, 25, 49, 47, 56, 44, 41, 20, 49, 61, 23, 21, 39, 19,\n",
       "       40, 51, 47, 47, 39, 39, 38, 40, 34, 46, 28, 54, 41, 18, 61, 54, 39,\n",
       "       60, 48, 19, 31, 44, 25, 28, 55, 26, 41, 27, 18, 36, 40, 39, 38, 46,\n",
       "       38, 49, 63, 41, 61, 21, 37, 52, 55, 25, 46, 20, 34, 39, 27, 42, 28,\n",
       "       57, 48, 39, 34, 28, 52, 53, 63, 34, 53, 49, 32, 23, 47, 34, 46, 52,\n",
       "       59, 47, 39, 26, 34, 42, 21, 63, 30, 54, 49, 33, 19, 33, 30, 31, 50,\n",
       "       46, 39, 52, 18, 28, 52, 24, 22, 34, 50, 57, 57, 50, 37, 18, 50, 44,\n",
       "       52, 32, 38, 43, 44, 27, 46, 19, 44, 18, 46, 47, 55, 23, 64, 36, 48,\n",
       "       56, 35, 46, 21, 62, 52, 32, 37, 18, 47, 24, 47, 31, 33, 18, 33, 49,\n",
       "       46, 29, 19, 22, 51, 56, 30, 55, 36, 20, 32, 30, 26, 62, 40, 25, 56,\n",
       "       39, 40, 59, 47, 52, 63, 49, 56, 34, 50, 52, 42, 42, 20, 51, 20, 36,\n",
       "       40, 30, 33, 63, 32, 59, 35, 48, 48, 47, 27, 46, 52, 63, 54, 20, 48,\n",
       "       39, 39, 38, 28, 26, 56, 26, 59, 34, 19, 19, 24, 64, 50, 62, 52, 22,\n",
       "       38, 56, 63, 46, 38, 64, 64, 28, 36, 52, 64, 58, 50, 63, 29, 59, 41,\n",
       "       32, 26, 49, 21, 33, 42, 20, 33, 37, 27, 51, 62, 62, 32, 31, 24, 44,\n",
       "       55, 49, 28, 27, 29, 58, 29, 26, 42, 55])"
      ]
     },
     "execution_count": 10,
     "metadata": {},
     "output_type": "execute_result"
    }
   ],
   "source": [
    "idades"
   ]
  },
  {
   "cell_type": "code",
   "execution_count": 11,
   "metadata": {},
   "outputs": [
    {
     "data": {
      "text/plain": [
       "ModeResult(mode=39, count=20)"
      ]
     },
     "execution_count": 11,
     "metadata": {},
     "output_type": "execute_result"
    }
   ],
   "source": [
    "from scipy import stats\n",
    "stats.mode(idades) # Moda"
   ]
  }
 ],
 "metadata": {
  "kernelspec": {
   "display_name": "base",
   "language": "python",
   "name": "python3"
  },
  "language_info": {
   "codemirror_mode": {
    "name": "ipython",
    "version": 3
   },
   "file_extension": ".py",
   "mimetype": "text/x-python",
   "name": "python",
   "nbconvert_exporter": "python",
   "pygments_lexer": "ipython3",
   "version": "3.12.4"
  }
 },
 "nbformat": 4,
 "nbformat_minor": 2
}
